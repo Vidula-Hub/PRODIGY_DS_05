{
 "cells": [
  {
   "cell_type": "markdown",
   "id": "f4f6d5ed",
   "metadata": {},
   "source": [
    "# Exploratory Data Analysis (EDA)\n",
    "## Step 1: Load Cleaned Data\n",
    "- Load the cleaned sampled US Accidents dataset (~9,995 rows).\n",
    "- Confirm the dataset structure and key columns."
   ]
  },
  {
   "cell_type": "code",
   "execution_count": 1,
   "id": "8f4b6cdd",
   "metadata": {},
   "outputs": [
    {
     "name": "stdout",
     "output_type": "stream",
     "text": [
      "Dataset Info:\n",
      "<class 'pandas.core.frame.DataFrame'>\n",
      "RangeIndex: 8812 entries, 0 to 8811\n",
      "Data columns (total 51 columns):\n",
      " #   Column                 Non-Null Count  Dtype  \n",
      "---  ------                 --------------  -----  \n",
      " 0   ID                     8812 non-null   object \n",
      " 1   Source                 8812 non-null   object \n",
      " 2   Severity               8812 non-null   int64  \n",
      " 3   Start_Time             8812 non-null   object \n",
      " 4   End_Time               8812 non-null   object \n",
      " 5   Start_Lat              8812 non-null   float64\n",
      " 6   Start_Lng              8812 non-null   float64\n",
      " 7   End_Lat                4530 non-null   float64\n",
      " 8   End_Lng                4530 non-null   float64\n",
      " 9   Distance(mi)           8812 non-null   float64\n",
      " 10  Description            8812 non-null   object \n",
      " 11  Street                 8799 non-null   object \n",
      " 12  City                   8812 non-null   object \n",
      " 13  County                 8812 non-null   object \n",
      " 14  State                  8812 non-null   object \n",
      " 15  Zipcode                8812 non-null   object \n",
      " 16  Country                8812 non-null   object \n",
      " 17  Timezone               8812 non-null   object \n",
      " 18  Airport_Code           8812 non-null   object \n",
      " 19  Weather_Timestamp      8812 non-null   object \n",
      " 20  Temperature(F)         8776 non-null   float64\n",
      " 21  Wind_Chill(F)          6510 non-null   float64\n",
      " 22  Humidity(%)            8764 non-null   float64\n",
      " 23  Pressure(in)           8797 non-null   float64\n",
      " 24  Visibility(mi)         8790 non-null   float64\n",
      " 25  Wind_Direction         8760 non-null   object \n",
      " 26  Wind_Speed(mph)        8288 non-null   float64\n",
      " 27  Precipitation(in)      6215 non-null   float64\n",
      " 28  Weather_Condition      8812 non-null   object \n",
      " 29  Amenity                8812 non-null   bool   \n",
      " 30  Bump                   8812 non-null   bool   \n",
      " 31  Crossing               8812 non-null   bool   \n",
      " 32  Give_Way               8812 non-null   bool   \n",
      " 33  Junction               8812 non-null   bool   \n",
      " 34  No_Exit                8812 non-null   bool   \n",
      " 35  Railway                8812 non-null   bool   \n",
      " 36  Roundabout             8812 non-null   bool   \n",
      " 37  Station                8812 non-null   bool   \n",
      " 38  Stop                   8812 non-null   bool   \n",
      " 39  Traffic_Calming        8812 non-null   bool   \n",
      " 40  Traffic_Signal         8812 non-null   bool   \n",
      " 41  Turning_Loop           8812 non-null   bool   \n",
      " 42  Sunrise_Sunset         8812 non-null   object \n",
      " 43  Civil_Twilight         8791 non-null   object \n",
      " 44  Nautical_Twilight      8791 non-null   object \n",
      " 45  Astronomical_Twilight  8791 non-null   object \n",
      " 46  Road_Condition         8812 non-null   object \n",
      " 47  Day_of_Week            8812 non-null   object \n",
      " 48  Hour                   8812 non-null   float64\n",
      " 49  Month                  8812 non-null   object \n",
      " 50  Light_Condition        8812 non-null   object \n",
      "dtypes: bool(13), float64(13), int64(1), object(24)\n",
      "memory usage: 2.7+ MB\n",
      "None\n",
      "\n",
      "First 5 rows:\n",
      "          ID   Source  Severity           Start_Time             End_Time  \\\n",
      "0  A-3622139  Source1         2  2017-05-22 07:33:50  2017-05-22 13:33:50   \n",
      "1  A-4479643  Source1         2  2022-04-13 13:13:52  2022-04-13 14:30:28   \n",
      "2   A-270558  Source2         2  2017-01-14 10:17:23  2017-01-14 10:46:42   \n",
      "3  A-6440144  Source1         2  2021-02-09 21:06:22  2021-02-09 23:14:52   \n",
      "4  A-4212433  Source1         2  2022-05-28 16:48:00  2022-05-28 18:51:23   \n",
      "\n",
      "   Start_Lat   Start_Lng    End_Lat     End_Lng  Distance(mi)  ...  \\\n",
      "0  47.684784 -122.183295  47.674916 -122.185312         0.688  ...   \n",
      "1  29.950098  -90.075788  29.950690  -90.075621         0.042  ...   \n",
      "2  29.671015  -95.355721        NaN         NaN         0.010  ...   \n",
      "3  34.656161  -92.412019  34.657567  -92.412123         0.097  ...   \n",
      "4  32.661674 -117.077683  32.661015 -117.077097         0.057  ...   \n",
      "\n",
      "  Turning_Loop Sunrise_Sunset Civil_Twilight Nautical_Twilight  \\\n",
      "0        False            Day            Day               Day   \n",
      "1        False            Day            Day               Day   \n",
      "2        False            Day            Day               Day   \n",
      "3        False          Night          Night             Night   \n",
      "4        False            Day            Day               Day   \n",
      "\n",
      "  Astronomical_Twilight Road_Condition Day_of_Week  Hour     Month  \\\n",
      "0                   Day            Dry      Monday   7.0       May   \n",
      "1                   Day            Dry   Wednesday  13.0     April   \n",
      "2                   Day        Unknown    Saturday  10.0   January   \n",
      "3                 Night            Dry     Tuesday  21.0  February   \n",
      "4                   Day            Dry    Saturday  16.0       May   \n",
      "\n",
      "  Light_Condition  \n",
      "0        Daylight  \n",
      "1        Daylight  \n",
      "2        Daylight  \n",
      "3            Dark  \n",
      "4        Daylight  \n",
      "\n",
      "[5 rows x 51 columns]\n"
     ]
    }
   ],
   "source": [
    "import pandas as pd\n",
    "\n",
    "# Load cleaned dataset\n",
    "df = pd.read_csv('../data/usa_traffic_accidents_cleaned.csv')\n",
    "print(\"Dataset Info:\")\n",
    "print(df.info())\n",
    "print(\"\\nFirst 5 rows:\")\n",
    "print(df.head())"
   ]
  },
  {
   "cell_type": "markdown",
   "id": "135ee66b",
   "metadata": {},
   "source": []
  },
  {
   "cell_type": "markdown",
   "id": "714e298f",
   "metadata": {},
   "source": [
    "## Step 2: Analyze Patterns\n",
    "- Analyze accidents by time (hour, day of week, month), weather, road conditions (inferred), and lighting."
   ]
  },
  {
   "cell_type": "code",
   "execution_count": 2,
   "id": "6c92cb81",
   "metadata": {},
   "outputs": [
    {
     "name": "stdout",
     "output_type": "stream",
     "text": [
      "Accidents by Hour:\n",
      "Hour\n",
      "0.0     126\n",
      "1.0      91\n",
      "2.0     105\n",
      "3.0      91\n",
      "4.0     179\n",
      "5.0     279\n",
      "6.0     472\n",
      "7.0     669\n",
      "8.0     675\n",
      "9.0     394\n",
      "10.0    396\n",
      "11.0    405\n",
      "12.0    420\n",
      "13.0    415\n",
      "14.0    504\n",
      "15.0    594\n",
      "16.0    686\n",
      "17.0    646\n",
      "18.0    492\n",
      "19.0    358\n",
      "20.0    262\n",
      "21.0    213\n",
      "22.0    181\n",
      "23.0    159\n",
      "Name: count, dtype: int64\n"
     ]
    }
   ],
   "source": [
    "# Accidents by Hour\n",
    "print(\"Accidents by Hour:\")\n",
    "print(df['Hour'].value_counts().sort_index())"
   ]
  },
  {
   "cell_type": "code",
   "execution_count": 3,
   "id": "a54eeecd",
   "metadata": {},
   "outputs": [
    {
     "name": "stdout",
     "output_type": "stream",
     "text": [
      "Accidents by Day of Week:\n",
      "Day_of_Week\n",
      "Friday       1609\n",
      "Wednesday    1558\n",
      "Thursday     1497\n",
      "Tuesday      1452\n",
      "Monday       1345\n",
      "Saturday      713\n",
      "Sunday        638\n",
      "Name: count, dtype: int64\n"
     ]
    }
   ],
   "source": [
    "# Accidents by Day of Week\n",
    "print(\"Accidents by Day of Week:\")\n",
    "print(df['Day_of_Week'].value_counts())"
   ]
  },
  {
   "cell_type": "code",
   "execution_count": 4,
   "id": "de55c595",
   "metadata": {},
   "outputs": [
    {
     "name": "stdout",
     "output_type": "stream",
     "text": [
      "Accidents by Month:\n",
      "Month\n",
      "December     949\n",
      "November     839\n",
      "January      795\n",
      "October      782\n",
      "September    781\n",
      "February     752\n",
      "August       724\n",
      "April        684\n",
      "June         659\n",
      "March        618\n",
      "July         615\n",
      "May          614\n",
      "Name: count, dtype: int64\n"
     ]
    }
   ],
   "source": [
    "# Accidents by Month\n",
    "print(\"Accidents by Month:\")\n",
    "print(df['Month'].value_counts())"
   ]
  },
  {
   "cell_type": "code",
   "execution_count": 5,
   "id": "6b358337",
   "metadata": {},
   "outputs": [
    {
     "name": "stdout",
     "output_type": "stream",
     "text": [
      "Accidents by Weather:\n",
      "Weather_Condition\n",
      "Fair                            2851\n",
      "Mostly Cloudy                   1217\n",
      "Clear                            998\n",
      "Cloudy                           953\n",
      "Partly Cloudy                    842\n",
      "Overcast                         471\n",
      "Light Rain                       394\n",
      "Scattered Clouds                 272\n",
      "Light Snow                       138\n",
      "Fog                              111\n",
      "Rain                             103\n",
      "Haze                              98\n",
      "Heavy Rain                        37\n",
      "Fair / Windy                      33\n",
      "Mostly Cloudy / Windy             23\n",
      "Light Drizzle                     23\n",
      "T-Storm                           21\n",
      "Wintry Mix                        20\n",
      "Thunder in the Vicinity           18\n",
      "Light Rain with Thunder           16\n",
      "Cloudy / Windy                    16\n",
      "Thunder                           14\n",
      "Smoke                             12\n",
      "Partly Cloudy / Windy             11\n",
      "Snow                              11\n",
      "Heavy T-Storm                     11\n",
      "Light Snow / Windy                10\n",
      "Light Thunderstorms and Rain       9\n",
      "Thunderstorm                       8\n",
      "Drizzle                            7\n",
      "Mist                               7\n",
      "Patches of Fog                     6\n",
      "Heavy Thunderstorms and Rain       6\n",
      "Showers in the Vicinity            4\n",
      "Shallow Fog                        4\n",
      "N/A Precipitation                  4\n",
      "Light Rain / Windy                 3\n",
      "Light Freezing Drizzle             3\n",
      "Light Freezing Rain                3\n",
      "Heavy Snow / Windy                 2\n",
      "Light Freezing Fog                 2\n",
      "Heavy Rain / Windy                 2\n",
      "Rain / Windy                       2\n",
      "Heavy Snow                         2\n",
      "Blowing Dust                       1\n",
      "Heavy T-Storm / Windy              1\n",
      "T-Storm / Windy                    1\n",
      "Light Sleet                        1\n",
      "Haze / Windy                       1\n",
      "Heavy Drizzle                      1\n",
      "Drizzle / Windy                    1\n",
      "Thunder / Windy                    1\n",
      "Light Snow and Sleet               1\n",
      "Light Rain Showers                 1\n",
      "Partial Fog                        1\n",
      "Snow / Windy                       1\n",
      "Widespread Dust                    1\n",
      "Fog / Windy                        1\n",
      "Name: count, dtype: int64\n"
     ]
    }
   ],
   "source": [
    "# Accidents by Weather\n",
    "print(\"Accidents by Weather:\")\n",
    "print(df['Weather_Condition'].value_counts())"
   ]
  },
  {
   "cell_type": "code",
   "execution_count": 6,
   "id": "e7d60f86",
   "metadata": {},
   "outputs": [
    {
     "name": "stdout",
     "output_type": "stream",
     "text": [
      "Accidents by Road Condition:\n",
      "Road_Condition\n",
      "Dry        6866\n",
      "Unknown    1036\n",
      "Wet         910\n",
      "Name: count, dtype: int64\n"
     ]
    }
   ],
   "source": [
    "# Accidents by Road Condition (inferred from Weather_Condition and Precipitation(in))\n",
    "print(\"Accidents by Road Condition:\")\n",
    "print(df['Road_Condition'].value_counts())"
   ]
  },
  {
   "cell_type": "code",
   "execution_count": 7,
   "id": "71ae6f65",
   "metadata": {},
   "outputs": [
    {
     "name": "stdout",
     "output_type": "stream",
     "text": [
      "Accidents by Lighting:\n",
      "Light_Condition\n",
      "Daylight    6090\n",
      "Dark        2701\n",
      "Unknown       21\n",
      "Name: count, dtype: int64\n"
     ]
    }
   ],
   "source": [
    "# Accidents by Lighting\n",
    "print(\"Accidents by Lighting:\")\n",
    "print(df['Light_Condition'].value_counts())"
   ]
  },
  {
   "cell_type": "markdown",
   "id": "8b2b304c",
   "metadata": {},
   "source": [
    "## Step 3: Preliminary Observations\n",
    "- **Time Patterns**: Look for peaks in hours (e.g., rush hours), days (e.g., weekdays vs. weekends), and months (e.g., seasonal trends).\n",
    "- **Weather**: Identify dominant weather conditions (e.g., Clear, Rain).\n",
    "- **Road Conditions**: Check distribution of inferred road conditions (Dry, Wet, Unknown).\n",
    "- **Lighting**: Compare accidents in daylight vs. dark conditions."
   ]
  },
  {
   "cell_type": "markdown",
   "id": "43cf7072",
   "metadata": {},
   "source": []
  }
 ],
 "metadata": {
  "kernelspec": {
   "display_name": "venv",
   "language": "python",
   "name": "python3"
  },
  "language_info": {
   "codemirror_mode": {
    "name": "ipython",
    "version": 3
   },
   "file_extension": ".py",
   "mimetype": "text/x-python",
   "name": "python",
   "nbconvert_exporter": "python",
   "pygments_lexer": "ipython3",
   "version": "3.11.4"
  }
 },
 "nbformat": 4,
 "nbformat_minor": 5
}
